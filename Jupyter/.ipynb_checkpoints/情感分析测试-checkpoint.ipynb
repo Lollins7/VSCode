{
 "cells": [
  {
   "cell_type": "code",
   "execution_count": 24,
   "id": "fff42829",
   "metadata": {
    "ExecuteTime": {
     "end_time": "2023-05-22T13:12:35.913880Z",
     "start_time": "2023-05-22T13:12:35.899881Z"
    }
   },
   "outputs": [],
   "source": [
    "text_one = 'This is a wonderful skirt.'\n",
    "text_two = 'I like wearing this skirt very much.'\n",
    "text_thr = 'This skirt looks really nice to wear.'\n",
    "text_fou = 'This skirt is not good.'\n",
    "text_fiv = 'This is a very bad skirt.'\n",
    "text_six = 'This is a good pair of shoes.'\n",
    "text_sev = 'I like these shoes very much.'\n",
    "text_eig = 'This is a great teddy bear.'\n",
    "text_nin = 'I like this teddy bear very much.'\n",
    "text_ten = 'This is a very bad teddy bear.'"
   ]
  },
  {
   "cell_type": "code",
   "execution_count": 25,
   "id": "9ad0b7e0",
   "metadata": {
    "ExecuteTime": {
     "end_time": "2023-05-22T13:12:38.548562Z",
     "start_time": "2023-05-22T13:12:38.523476Z"
    }
   },
   "outputs": [],
   "source": [
    "import nltk\n",
    "from nltk.stem import WordNetLemmatizer\n",
    "from nltk.corpus import stopwords\n",
    "from nltk.classify import NaiveBayesClassifier\n",
    "\n",
    "\n",
    "def pret_text(text):\n",
    "    words = nltk.word_tokenize(text)\n",
    "    wordnet_lematizer = WordNetLemmatizer()\n",
    "    words = [wordnet_lematizer.lemmatize(word) for word in words]\n",
    "    remain_words = [\n",
    "        word for word in words if word not in stopwords.words('english')\n",
    "    ]\n",
    "    return {word: True for word in remain_words}"
   ]
  },
  {
   "cell_type": "code",
   "execution_count": 26,
   "id": "627d5acd",
   "metadata": {
    "ExecuteTime": {
     "end_time": "2023-05-22T13:12:42.292995Z",
     "start_time": "2023-05-22T13:12:42.079533Z"
    }
   },
   "outputs": [],
   "source": [
    "train_data=[[pret_text(text_one),1],\n",
    "            [pret_text(text_two),1],\n",
    "            [pret_text(text_thr),1],\n",
    "            [pret_text(text_fou),-1],\n",
    "            [pret_text(text_fiv),-1],\n",
    "            [pret_text(text_six),1],\n",
    "            [pret_text(text_sev),1],\n",
    "            [pret_text(text_eig),1],\n",
    "            [pret_text(text_nin),1],\n",
    "            [pret_text(text_ten),]]\n",
    "demo_model=NaiveBayesClassifier.train (train_data)"
   ]
  },
  {
   "cell_type": "code",
   "execution_count": 17,
   "id": "bab64725",
   "metadata": {
    "ExecuteTime": {
     "end_time": "2023-05-22T13:10:37.160212Z",
     "start_time": "2023-05-22T13:10:37.121181Z"
    }
   },
   "outputs": [],
   "source": [
    "test_textl='I like this movie very much'\n",
    "demo_model.classify (pret_text(test_textl))"
   ]
  },
  {
   "cell_type": "code",
   "execution_count": 18,
   "id": "496299ed",
   "metadata": {
    "ExecuteTime": {
     "end_time": "2023-05-22T13:10:39.893700Z",
     "start_time": "2023-05-22T13:10:39.841861Z"
    }
   },
   "outputs": [],
   "source": [
    "test_text2='This is a bad movie.'\n",
    "demo_model.classify (pret_text(test_text2))"
   ]
  },
  {
   "cell_type": "code",
   "execution_count": 19,
   "id": "97d83628",
   "metadata": {
    "ExecuteTime": {
     "end_time": "2023-05-22T13:10:42.588761Z",
     "start_time": "2023-05-22T13:10:42.550737Z"
    }
   },
   "outputs": [],
   "source": [
    "test_text3='This is a wonderful garden.'\n",
    "demo_model.classify (pret_text(test_text3))"
   ]
  },
  {
   "cell_type": "code",
   "execution_count": 20,
   "id": "91f68768",
   "metadata": {
    "ExecuteTime": {
     "end_time": "2023-05-22T13:10:45.238074Z",
     "start_time": "2023-05-22T13:10:45.198319Z"
    }
   },
   "outputs": [],
   "source": [
    "test_text4='I like playing basketball very much.'\n",
    "demo_model.classify (pret_text(test_text4))"
   ]
  },
  {
   "cell_type": "code",
   "execution_count": 23,
   "id": "fdd64d23",
   "metadata": {
    "ExecuteTime": {
     "end_time": "2023-05-22T13:12:31.955171Z",
     "start_time": "2023-05-22T13:12:31.916954Z"
    }
   },
   "outputs": [],
   "source": [
    "test_text1='I like this basketball very much'\n",
    "demo_model.classify(pret_text(test_text1))"
   ]
  },
  {
   "cell_type": "code",
   "execution_count": null,
   "id": "518364bc",
   "metadata": {},
   "outputs": [],
   "source": []
  }
 ],
 "metadata": {
  "kernelspec": {
   "display_name": "Python 3 (ipykernel)",
   "language": "python",
   "name": "python3"
  },
  "language_info": {
   "codemirror_mode": {
    "name": "ipython",
    "version": 3
   },
   "file_extension": ".py",
   "mimetype": "text/x-python",
   "name": "python",
   "nbconvert_exporter": "python",
   "pygments_lexer": "ipython3",
   "version": "3.9.16"
  },
  "toc": {
   "base_numbering": 1,
   "nav_menu": {},
   "number_sections": true,
   "sideBar": true,
   "skip_h1_title": false,
   "title_cell": "Table of Contents",
   "title_sidebar": "Contents",
   "toc_cell": false,
   "toc_position": {},
   "toc_section_display": true,
   "toc_window_display": false
  },
  "varInspector": {
   "cols": {
    "lenName": 16,
    "lenType": 16,
    "lenVar": 40
   },
   "kernels_config": {
    "python": {
     "delete_cmd_postfix": "",
     "delete_cmd_prefix": "del ",
     "library": "var_list.py",
     "varRefreshCmd": "print(var_dic_list())"
    },
    "r": {
     "delete_cmd_postfix": ") ",
     "delete_cmd_prefix": "rm(",
     "library": "var_list.r",
     "varRefreshCmd": "cat(var_dic_list()) "
    }
   },
   "types_to_exclude": [
    "module",
    "function",
    "builtin_function_or_method",
    "instance",
    "_Feature"
   ],
   "window_display": false
  }
 },
 "nbformat": 4,
 "nbformat_minor": 5
}

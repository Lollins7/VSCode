{
 "cells": [
  {
   "cell_type": "code",
   "execution_count": null,
   "id": "b1caae63",
   "metadata": {},
   "outputs": [],
   "source": [
    "import numpy as np\n",
    "import matplotlib.pyplot as plt\n",
    "from scipy.signal import butter, lfilter\n",
    "\n",
    "# 生成包含高频噪声的示例信号\n",
    "fs = 1000  # 采样率\n",
    "t = np.arange(0, 1, 1/fs)\n",
    "signal = np.sin(2 * np.pi * 50 * t) + 0.5 * np.random.randn(len(t))\n",
    "\n",
    "# 设计巴特沃斯低通滤波器\n",
    "cutoff_frequency = 100  # 截止频率为100 Hz\n",
    "order = 4  # 滤波器阶数\n",
    "\n",
    "b, a = butter(N=order, Wn=cutoff_frequency/(0.5*fs), btype='low', analog=False)\n",
    "\n",
    "# 应用滤波器\n",
    "filtered_signal = lfilter(b, a, signal)\n",
    "\n",
    "# 绘制结果\n",
    "plt.figure(figsize=(10, 6))\n",
    "\n",
    "plt.subplot(2, 1, 1)\n",
    "plt.plot(t, signal, label='原始信号')\n",
    "plt.title('原始信号')\n",
    "plt.xlabel('时间 (秒)')\n",
    "plt.ylabel('幅度')\n",
    "plt.legend()\n",
    "\n",
    "plt.subplot(2, 1, 2)\n",
    "plt.plot(t, filtered_signal, label='滤波后信号', color='orange')\n",
    "plt.title('低通滤波后信号')\n",
    "plt.xlabel('时间 (秒)')\n",
    "plt.ylabel('幅度')\n",
    "plt.legend()\n",
    "\n",
    "plt.tight_layout()\n",
    "plt.show()\n"
   ]
  }
 ],
 "metadata": {
  "kernelspec": {
   "display_name": "Python 3 (ipykernel)",
   "language": "python",
   "name": "python3"
  },
  "language_info": {
   "codemirror_mode": {
    "name": "ipython",
    "version": 3
   },
   "file_extension": ".py",
   "mimetype": "text/x-python",
   "name": "python",
   "nbconvert_exporter": "python",
   "pygments_lexer": "ipython3",
   "version": "3.7.0"
  },
  "toc": {
   "base_numbering": 1,
   "nav_menu": {},
   "number_sections": true,
   "sideBar": true,
   "skip_h1_title": false,
   "title_cell": "Table of Contents",
   "title_sidebar": "Contents",
   "toc_cell": false,
   "toc_position": {},
   "toc_section_display": true,
   "toc_window_display": false
  },
  "varInspector": {
   "cols": {
    "lenName": 16,
    "lenType": 16,
    "lenVar": 40
   },
   "kernels_config": {
    "python": {
     "delete_cmd_postfix": "",
     "delete_cmd_prefix": "del ",
     "library": "var_list.py",
     "varRefreshCmd": "print(var_dic_list())"
    },
    "r": {
     "delete_cmd_postfix": ") ",
     "delete_cmd_prefix": "rm(",
     "library": "var_list.r",
     "varRefreshCmd": "cat(var_dic_list()) "
    }
   },
   "types_to_exclude": [
    "module",
    "function",
    "builtin_function_or_method",
    "instance",
    "_Feature"
   ],
   "window_display": false
  }
 },
 "nbformat": 4,
 "nbformat_minor": 5
}

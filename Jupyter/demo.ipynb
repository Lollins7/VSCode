{
 "cells": [
  {
   "cell_type": "code",
   "execution_count": 3,
   "metadata": {
    "collapsed": false,
    "pycharm": {
     "is_executing": true,
     "name": "#%%\n"
    }
   },
   "outputs": [
    {
     "name": "stderr",
     "output_type": "stream",
     "text": [
      "/Users/lollins/Library/Python/3.9/lib/python/site-packages/urllib3/__init__.py:34: NotOpenSSLWarning: urllib3 v2 only supports OpenSSL 1.1.1+, currently the 'ssl' module is compiled with 'LibreSSL 2.8.3'. See: https://github.com/urllib3/urllib3/issues/3020\n",
      "  warnings.warn(\n"
     ]
    }
   ],
   "source": [
    "from math import floor\n",
    "from selenium import webdriver\n",
    "from selenium.webdriver.common.by import By\n",
    "from selenium.webdriver.support.ui import Select\n",
    "# import logging\n",
    "import time\n",
    "import re\n",
    "\n",
    "from sympy import li\n",
    "\n",
    "url = 'http://libzwxt.ahnu.edu.cn/SeatWx/login.aspx?url=http%3a%2f%2flibzwxt.ahnu.edu.cn%2fSeatWx%2findex.aspx'\n",
    "chrome_options = webdriver.ChromeOptions()\n",
    "# chrome_options.add_argument('--headless')\n",
    "# 给定的基本信息\n",
    "type_dict = {\n",
    "    '2楼电子阅览室': [2, 'href=\"Room.aspx?rid=18&fid=1\"'],\n",
    "    '2楼报刊阅览室': [2, 'href=\"Room.aspx?rid=1&fid=1\"'],\n",
    "    '3楼公共·东': [3, 'href=\"Room.aspx?rid=13&fid=3\"'],\n",
    "}\n",
    "user_name = '21111202046'\n",
    "pass_word = 'qwertyuiop0420!'\n",
    "# floor_num, room_type = type_dict['2楼电子阅览室']\n",
    "floor_num, room_type = type_dict['3楼公共·东']\n",
    "specific_seat = ''\n",
    "# likes_seats = ['ndz185', 'ndz184']\n",
    "likes_seats = ['ngg3e063', 'ngg3e064']\n",
    "select_time = ['19', '00', '20', '00']\n",
    "select_date = ['00', '2024', '02', '26']\n",
    "select_date = ''.join(select_date)\n",
    "re_pattern = re.compile(r'\\d+')\n",
    "sid_pattern = re.compile(r'sid=(\\d+)')\n",
    "accept_all = '预约成功!'\n",
    "\n",
    "# # 配置日志记录\n",
    "# logging.basicConfig(filename='log/user_%s.log' % user_name,\n",
    "#                     level=logging.INFO, format='%(asctime)s - %(message)s')\n",
    "# logger = logging.getLogger(__name__)\n",
    "\n",
    "try_cnt = 0\n",
    "# logger.info('开始执行程序')\n",
    "\n",
    "while try_cnt < 100:\n",
    "    try:\n",
    "        try_cnt += 1\n",
    "        driver = webdriver.Chrome(options=chrome_options)\n",
    "        driver.get(url)\n",
    "        user_name_input = driver.find_element(\n",
    "            By.CSS_SELECTOR, '[id=\"tbUserName\"]')\n",
    "        break\n",
    "    except Exception as e:\n",
    "        driver.quit()\n",
    "        print(f\"An error occurred: {e}\")\n",
    "        time.sleep(3)\n",
    "\n",
    "# logger.info('成功获取网页')\n",
    "# 登陆窗口\n",
    "user_name_input = driver.find_element(By.CSS_SELECTOR, '[id=\"tbUserName\"]')\n",
    "pass_word_input = driver.find_element(By.CSS_SELECTOR, '[id=\"tbPassWord\"]')\n",
    "signup = driver.find_element(By.CSS_SELECTOR, '[id=\"Button1\"]')\n",
    "\n",
    "# 登陆操作\n",
    "user_name_input.clear()\n",
    "user_name_input.send_keys(user_name)\n",
    "pass_word_input.clear()\n",
    "pass_word_input.send_keys(pass_word)\n",
    "time.sleep(2.4)\n",
    "signup.click()\n",
    "\n",
    "# 进入选定楼层和房间\n",
    "appoint = driver.find_element(By.CSS_SELECTOR, '[href=\"Order.aspx\"]')\n",
    "appoint.click()\n",
    "time.sleep(2.4)\n",
    "floor_in = driver.find_element(By.CSS_SELECTOR, '[href=\"Order.aspx?fid={}\"]'.format(floor_num * 2 - 3))\n",
    "floor_in.click()\n",
    "time.sleep(2.4)\n",
    "room_in = driver.find_element(By.CSS_SELECTOR, '[%s]' % room_type)\n",
    "room_in.click()\n",
    "time.sleep(2.4)"
   ]
  },
  {
   "cell_type": "code",
   "execution_count": 4,
   "id": "e7d863d7",
   "metadata": {},
   "outputs": [],
   "source": [
    "seats = driver.find_element(\n",
    "            By.CSS_SELECTOR, '[id=\"ulSeat\"]').find_elements(By.XPATH, './*')"
   ]
  },
  {
   "cell_type": "code",
   "execution_count": 11,
   "id": "5b82e348",
   "metadata": {},
   "outputs": [
    {
     "data": {
      "text/plain": [
       "185"
      ]
     },
     "execution_count": 11,
     "metadata": {},
     "output_type": "execute_result"
    }
   ],
   "source": [
    "int(re_pattern.findall(\"ndz185\")[-1])"
   ]
  },
  {
   "cell_type": "code",
   "execution_count": 13,
   "id": "e956cc6f",
   "metadata": {},
   "outputs": [
    {
     "data": {
      "text/plain": [
       "<selenium.webdriver.remote.webelement.WebElement (session=\"fe14cf3495e0d2880c9e6121d742abcd\", element=\"f.B4FF154BBA47C6635F7BD0E39218E104.d.44EF70D55C5E8E576B49264CD5292F5D.e.99\")>"
      ]
     },
     "execution_count": 13,
     "metadata": {},
     "output_type": "execute_result"
    }
   ],
   "source": [
    "seats[0]"
   ]
  }
 ],
 "metadata": {
  "kernelspec": {
   "display_name": "Python 3 (ipykernel)",
   "language": "python",
   "name": "python3"
  },
  "language_info": {
   "codemirror_mode": {
    "name": "ipython",
    "version": 3
   },
   "file_extension": ".py",
   "mimetype": "text/x-python",
   "name": "python",
   "nbconvert_exporter": "python",
   "pygments_lexer": "ipython3",
   "version": "3.9.6"
  },
  "toc": {
   "base_numbering": 1,
   "nav_menu": {},
   "number_sections": true,
   "sideBar": true,
   "skip_h1_title": false,
   "title_cell": "Table of Contents",
   "title_sidebar": "Contents",
   "toc_cell": false,
   "toc_position": {},
   "toc_section_display": true,
   "toc_window_display": false
  },
  "toc-autonumbering": true,
  "toc-showmarkdowntxt": true,
  "varInspector": {
   "cols": {
    "lenName": 16,
    "lenType": 16,
    "lenVar": 40
   },
   "kernels_config": {
    "python": {
     "delete_cmd_postfix": "",
     "delete_cmd_prefix": "del ",
     "library": "var_list.py",
     "varRefreshCmd": "print(var_dic_list())"
    },
    "r": {
     "delete_cmd_postfix": ") ",
     "delete_cmd_prefix": "rm(",
     "library": "var_list.r",
     "varRefreshCmd": "cat(var_dic_list()) "
    }
   },
   "types_to_exclude": [
    "module",
    "function",
    "builtin_function_or_method",
    "instance",
    "_Feature"
   ],
   "window_display": false
  }
 },
 "nbformat": 4,
 "nbformat_minor": 5
}

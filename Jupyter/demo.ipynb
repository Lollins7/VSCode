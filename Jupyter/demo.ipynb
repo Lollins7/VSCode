{
 "cells": [
  {
   "cell_type": "code",
   "execution_count": 28,
   "id": "9273c7c4",
   "metadata": {},
   "outputs": [
    {
     "data": {
      "text/plain": [
       "array([-2.6546949 , -1.81464098, -1.07078418, -1.7363658 , -1.76539677,\n",
       "       -1.59314313,  0.14232031, -2.18587957, -1.62225676, -3.05407606,\n",
       "       -1.18085775, -2.15294859, -1.25855698, -2.59154832, -1.22078353,\n",
       "       -1.88931052, -1.43134763, -1.20614784, -2.76418309, -1.8141813 ])"
      ]
     },
     "execution_count": 28,
     "metadata": {},
     "output_type": "execute_result"
    }
   ],
   "source": [
    "import numpy as np\n",
    "\n",
    "npsqrt(0.5)*np.random.randn(20) - 2"
   ]
  },
  {
   "cell_type": "code",
   "execution_count": 44,
   "id": "032e4660",
   "metadata": {},
   "outputs": [
    {
     "data": {
      "text/plain": [
       "-4.202864034419047"
      ]
     },
     "execution_count": 44,
     "metadata": {},
     "output_type": "execute_result"
    }
   ],
   "source": [
    "min(np.sqrt(0.5)*np.random.randn(2000) - 2) + max(np.sqrt(0.5)*np.random.randn(2000) - 2)"
   ]
  }
 ],
 "metadata": {
  "kernelspec": {
   "display_name": "Python 3 (ipykernel)",
   "language": "python",
   "name": "python3"
  },
  "language_info": {
   "codemirror_mode": {
    "name": "ipython",
    "version": 3
   },
   "file_extension": ".py",
   "mimetype": "text/x-python",
   "name": "python",
   "nbconvert_exporter": "python",
   "pygments_lexer": "ipython3",
   "version": "3.9.6"
  },
  "toc": {
   "base_numbering": 1,
   "nav_menu": {},
   "number_sections": true,
   "sideBar": true,
   "skip_h1_title": false,
   "title_cell": "Table of Contents",
   "title_sidebar": "Contents",
   "toc_cell": false,
   "toc_position": {},
   "toc_section_display": true,
   "toc_window_display": false
  },
  "toc-autonumbering": true,
  "toc-showmarkdowntxt": true,
  "varInspector": {
   "cols": {
    "lenName": 16,
    "lenType": 16,
    "lenVar": 40
   },
   "kernels_config": {
    "python": {
     "delete_cmd_postfix": "",
     "delete_cmd_prefix": "del ",
     "library": "var_list.py",
     "varRefreshCmd": "print(var_dic_list())"
    },
    "r": {
     "delete_cmd_postfix": ") ",
     "delete_cmd_prefix": "rm(",
     "library": "var_list.r",
     "varRefreshCmd": "cat(var_dic_list()) "
    }
   },
   "types_to_exclude": [
    "module",
    "function",
    "builtin_function_or_method",
    "instance",
    "_Feature"
   ],
   "window_display": false
  }
 },
 "nbformat": 4,
 "nbformat_minor": 5
}

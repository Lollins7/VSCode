{
 "cells": [
  {
   "cell_type": "code",
   "execution_count": 34,
   "id": "6aaf63e6",
   "metadata": {
    "ExecuteTime": {
     "end_time": "2023-05-09T14:12:36.436053Z",
     "start_time": "2023-05-09T14:12:36.426050Z"
    },
    "code_folding": []
   },
   "outputs": [],
   "source": [
    "from pyecharts import options as opts\n",
    "from pyecharts.charts import Map\n",
    "from pyecharts.faker import Faker\n",
    "\n",
    "c = (\n",
    "    Map()\n",
    "    .add(\"商家A\", [list(z) for z in zip(Faker.provinces, Faker.values())], \"china\")\n",
    "    .set_global_opts(title_opts=opts.TitleOpts(title=\"Map-基本示例\"))\n",
    "    .render(\"map_base.html\")\n",
    ")"
   ]
  },
  {
   "cell_type": "code",
   "execution_count": 37,
   "id": "23394c4a",
   "metadata": {
    "ExecuteTime": {
     "end_time": "2023-05-09T14:21:45.516419Z",
     "start_time": "2023-05-09T14:21:45.496222Z"
    }
   },
   "outputs": [],
   "source": [
    "from pyecharts import options as opts\n",
    "from pyecharts.charts import Map\n",
    "from pyecharts.faker import Faker\n",
    "\n",
    "c = (\n",
    "    Map()\n",
    "    .add('耦合度', [list(z) for z in zip(Faker.provinces, Faker.values())], \"china\")\n",
    "    .set_global_opts(\n",
    "        title_opts=opts.TitleOpts(title=\"Map-VisualMap（连续型）\"),\n",
    "        visualmap_opts=opts.VisualMapOpts(max_=200),\n",
    "    )\n",
    "    .render(\"map_visualmap.html\")\n",
    ")"
   ]
  },
  {
   "cell_type": "code",
   "execution_count": 41,
   "id": "6011ad29",
   "metadata": {
    "ExecuteTime": {
     "end_time": "2023-05-09T14:23:32.754614Z",
     "start_time": "2023-05-09T14:23:32.740623Z"
    }
   },
   "outputs": [
    {
     "name": "stdout",
     "output_type": "stream",
     "text": [
      "Help on method add in module pyecharts.charts.basic_charts.map:\n",
      "\n",
      "add(series_name: str, data_pair: Sequence[Union[Sequence, pyecharts.options.charts_options.MapItem, dict]], maptype: str = 'china', *, is_roam: bool = True, center: Optional[Sequence] = None, aspect_scale: Union[int, float] = 0.75, bounding_coords: Optional[Sequence[Union[int, float]]] = None, min_scale_limit: Union[int, float, NoneType] = None, max_scale_limit: Union[int, float, NoneType] = None, name_property: str = 'name', selected_mode: Union[bool, str] = False, zoom: Union[int, float, NoneType] = 1, name_map: Optional[dict] = None, symbol: Optional[str] = None, map_value_calculation: str = 'sum', is_map_symbol_show: bool = True, z_level: Union[int, float] = 0, z: Union[int, float] = 2, pos_left: Union[str, int, float, NoneType] = None, pos_top: Union[str, int, float, NoneType] = None, pos_right: Union[str, int, float, NoneType] = None, pos_bottom: Union[str, int, float, NoneType] = None, geo_index: Union[int, float, NoneType] = None, series_layout_by: str = 'column', dataset_index: Union[int, float, NoneType] = 0, layout_center: Optional[Sequence[str]] = None, layout_size: Union[str, int, float] = None, label_opts: Union[pyecharts.options.series_options.LabelOpts, dict, NoneType] = <pyecharts.options.series_options.LabelOpts object at 0x000001ECEC45DB80>, tooltip_opts: Union[pyecharts.options.global_options.TooltipOpts, dict, NoneType] = None, itemstyle_opts: Union[pyecharts.options.series_options.ItemStyleOpts, dict, NoneType] = None, emphasis_label_opts: Union[pyecharts.options.series_options.LabelOpts, dict, NoneType] = None, emphasis_itemstyle_opts: Union[pyecharts.options.series_options.ItemStyleOpts, dict, NoneType] = None) method of pyecharts.charts.basic_charts.map.Map instance\n",
      "\n"
     ]
    }
   ],
   "source": [
    "help(Map().add)"
   ]
  },
  {
   "cell_type": "code",
   "execution_count": null,
   "id": "8bcfdd99",
   "metadata": {},
   "outputs": [],
   "source": []
  }
 ],
 "metadata": {
  "kernelspec": {
   "display_name": "Python 3 (ipykernel)",
   "language": "python",
   "name": "python3"
  },
  "language_info": {
   "codemirror_mode": {
    "name": "ipython",
    "version": 3
   },
   "file_extension": ".py",
   "mimetype": "text/x-python",
   "name": "python",
   "nbconvert_exporter": "python",
   "pygments_lexer": "ipython3",
   "version": "3.9.16"
  },
  "toc": {
   "base_numbering": 1,
   "nav_menu": {},
   "number_sections": true,
   "sideBar": true,
   "skip_h1_title": false,
   "title_cell": "Table of Contents",
   "title_sidebar": "Contents",
   "toc_cell": false,
   "toc_position": {},
   "toc_section_display": true,
   "toc_window_display": false
  },
  "varInspector": {
   "cols": {
    "lenName": 16,
    "lenType": 16,
    "lenVar": 40
   },
   "kernels_config": {
    "python": {
     "delete_cmd_postfix": "",
     "delete_cmd_prefix": "del ",
     "library": "var_list.py",
     "varRefreshCmd": "print(var_dic_list())"
    },
    "r": {
     "delete_cmd_postfix": ") ",
     "delete_cmd_prefix": "rm(",
     "library": "var_list.r",
     "varRefreshCmd": "cat(var_dic_list()) "
    }
   },
   "position": {
    "height": "144.45px",
    "left": "1159px",
    "right": "20px",
    "top": "116px",
    "width": "350px"
   },
   "types_to_exclude": [
    "module",
    "function",
    "builtin_function_or_method",
    "instance",
    "_Feature"
   ],
   "window_display": false
  }
 },
 "nbformat": 4,
 "nbformat_minor": 5
}

{
 "cells": [
  {
   "cell_type": "code",
   "execution_count": 92,
   "id": "6aaf63e6",
   "metadata": {
    "ExecuteTime": {
     "end_time": "2023-05-09T16:08:35.537369Z",
     "start_time": "2023-05-09T16:08:35.523366Z"
    },
    "code_folding": []
   },
   "outputs": [
    {
     "data": {
      "text/plain": [
       "'D:\\\\Jupyter\\\\china_map\\\\map_base.html'"
      ]
     },
     "execution_count": 92,
     "metadata": {},
     "output_type": "execute_result"
    }
   ],
   "source": [
    "from pyecharts import options as opts\n",
    "from pyecharts.charts import Map\n",
    "from pyecharts.faker import Faker\n",
    "\n",
    "Map().add(\"商家A\", [list(z) for z in zip(Faker.provinces, Faker.values())],\n",
    "               \"china\").set_global_opts(title_opts=opts.TitleOpts(\n",
    "                   title=\"Map-基本示例\")).render(\"map_base.html\")"
   ]
  },
  {
   "cell_type": "code",
   "execution_count": 3,
   "id": "385cc537",
   "metadata": {
    "ExecuteTime": {
     "end_time": "2023-05-09T16:16:37.044319Z",
     "start_time": "2023-05-09T16:16:37.001963Z"
    }
   },
   "outputs": [],
   "source": [
    "from pyecharts import options as opts\n",
    "from pyecharts.charts import Map\n",
    "import pandas as pd\n",
    "\n",
    "data = pd.read_excel(\"耦合度.xlsx\")\n",
    "provinces = data.iloc[:, 0]\n",
    "\n",
    "for i in range(10):\n",
    "    values = data.iloc[:, i + 1]\n",
    "    Map().add(\"耦合度\", [list(z) for z in zip(provinces, values)],\n",
    "              \"china\").set_global_opts(\n",
    "                  title_opts=opts.TitleOpts(title=\"各省份的耦合度数据\"),\n",
    "                  visualmap_opts=opts.VisualMapOpts(\n",
    "                      max_=1)).render(\"map\" + str(i) + '.html')"
   ]
  },
  {
   "cell_type": "code",
   "execution_count": 2,
   "id": "46744b18",
   "metadata": {
    "ExecuteTime": {
     "end_time": "2023-05-09T16:10:55.491401Z",
     "start_time": "2023-05-09T16:10:55.476436Z"
    }
   },
   "outputs": [
    {
     "ename": "NameError",
     "evalue": "name 'Faker' is not defined",
     "output_type": "error",
     "traceback": [
      "\u001b[1;31m---------------------------------------------------------------------------\u001b[0m",
      "\u001b[1;31mNameError\u001b[0m                                 Traceback (most recent call last)",
      "\u001b[1;32mC:\\Windows\\Temp\\ipykernel_23076\\1083719061.py\u001b[0m in \u001b[0;36m<module>\u001b[1;34m\u001b[0m\n\u001b[1;32m----> 1\u001b[1;33m \u001b[1;33m[\u001b[0m\u001b[0mlist\u001b[0m\u001b[1;33m(\u001b[0m\u001b[0mi\u001b[0m\u001b[1;33m)\u001b[0m \u001b[1;32mfor\u001b[0m \u001b[0mi\u001b[0m \u001b[1;32min\u001b[0m \u001b[0mzip\u001b[0m\u001b[1;33m(\u001b[0m\u001b[0mFaker\u001b[0m\u001b[1;33m.\u001b[0m\u001b[0mprovinces\u001b[0m\u001b[1;33m,\u001b[0m \u001b[0mFaker\u001b[0m\u001b[1;33m.\u001b[0m\u001b[0mvalues\u001b[0m\u001b[1;33m(\u001b[0m\u001b[1;33m)\u001b[0m\u001b[1;33m)\u001b[0m\u001b[1;33m]\u001b[0m\u001b[1;33m\u001b[0m\u001b[0m\n\u001b[0m",
      "\u001b[1;31mNameError\u001b[0m: name 'Faker' is not defined"
     ]
    }
   ],
   "source": [
    "[list(i) for i in zip(Faker.provinces, Faker.values())]"
   ]
  },
  {
   "cell_type": "code",
   "execution_count": null,
   "id": "97afe8e0",
   "metadata": {
    "ExecuteTime": {
     "end_time": "2023-05-09T16:08:25.531221Z",
     "start_time": "2023-05-09T16:08:25.520217Z"
    }
   },
   "outputs": [
    {
     "data": {
      "text/plain": [
       "'D:\\\\Jupyter\\\\china_map\\\\map_visualmap.html'"
      ]
     },
     "execution_count": 91,
     "metadata": {},
     "output_type": "execute_result"
    }
   ],
   "source": [
    "c"
   ]
  },
  {
   "cell_type": "code",
   "execution_count": null,
   "id": "7c196cda",
   "metadata": {},
   "outputs": [],
   "source": []
  }
 ],
 "metadata": {
  "kernelspec": {
   "display_name": "Python 3 (ipykernel)",
   "language": "python",
   "name": "python3"
  },
  "language_info": {
   "codemirror_mode": {
    "name": "ipython",
    "version": 3
   },
   "file_extension": ".py",
   "mimetype": "text/x-python",
   "name": "python",
   "nbconvert_exporter": "python",
   "pygments_lexer": "ipython3",
   "version": "3.7.0"
  },
  "toc": {
   "base_numbering": 1,
   "nav_menu": {},
   "number_sections": true,
   "sideBar": true,
   "skip_h1_title": false,
   "title_cell": "Table of Contents",
   "title_sidebar": "Contents",
   "toc_cell": false,
   "toc_position": {},
   "toc_section_display": true,
   "toc_window_display": false
  },
  "varInspector": {
   "cols": {
    "lenName": 16,
    "lenType": 16,
    "lenVar": 40
   },
   "kernels_config": {
    "python": {
     "delete_cmd_postfix": "",
     "delete_cmd_prefix": "del ",
     "library": "var_list.py",
     "varRefreshCmd": "print(var_dic_list())"
    },
    "r": {
     "delete_cmd_postfix": ") ",
     "delete_cmd_prefix": "rm(",
     "library": "var_list.r",
     "varRefreshCmd": "cat(var_dic_list()) "
    }
   },
   "position": {
    "height": "144.45px",
    "left": "1159px",
    "right": "20px",
    "top": "116px",
    "width": "350px"
   },
   "types_to_exclude": [
    "module",
    "function",
    "builtin_function_or_method",
    "instance",
    "_Feature"
   ],
   "window_display": false
  }
 },
 "nbformat": 4,
 "nbformat_minor": 5
}

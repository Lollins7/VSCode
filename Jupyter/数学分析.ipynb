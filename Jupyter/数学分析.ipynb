{
 "cells": [
  {
   "cell_type": "markdown",
   "id": "3ba351bf-15c4-4c99-a79e-075bcc50ab08",
   "metadata": {
    "tags": [],
    "pycharm": {
     "name": "#%% md\n"
    }
   },
   "source": [
    "## 求极限"
   ]
  },
  {
   "cell_type": "code",
   "execution_count": 1,
   "id": "de4f94a8-205f-4ace-a773-1903331fb0c9",
   "metadata": {
    "ExecuteTime": {
     "end_time": "2023-05-05T16:10:43.800345Z",
     "start_time": "2023-05-05T16:10:43.785564Z"
    },
    "pycharm": {
     "name": "#%%\n"
    }
   },
   "outputs": [
    {
     "data": {
      "text/plain": [
       "32767.0"
      ]
     },
     "execution_count": 1,
     "metadata": {},
     "output_type": "execute_result"
    }
   ],
   "source": [
    "import math\n",
    "n,k = 16,2\n",
    "s = 0\n",
    "for j in range(k+1):\n",
    "    s += (-1)**(k-j) * math.comb(k, j) * j**n\n",
    "\n",
    "(1/math.factorial(k))*s\n"
   ]
  },
  {
   "cell_type": "code",
   "execution_count": 13,
   "id": "90427f7f-9ce7-499b-bd24-740b119d626c",
   "metadata": {
    "ExecuteTime": {
     "end_time": "2023-05-05T13:30:00.045093Z",
     "start_time": "2023-05-05T13:30:00.029087Z"
    },
    "pycharm": {
     "name": "#%%\n"
    }
   },
   "outputs": [
    {
     "data": {
      "text/plain": [
       "6435"
      ]
     },
     "execution_count": 13,
     "metadata": {},
     "output_type": "execute_result"
    }
   ],
   "source": [
    "s = 0\n",
    "for i in range(8):\n",
    "    s += math.comb(16,i+1)\n",
    "s-32767"
   ]
  },
  {
   "cell_type": "code",
   "execution_count": 1,
   "id": "51f8b20a",
   "metadata": {
    "ExecuteTime": {
     "end_time": "2023-05-05T15:42:23.134428Z",
     "start_time": "2023-05-05T15:42:23.121425Z"
    },
    "pycharm": {
     "name": "#%%\n"
    }
   },
   "outputs": [
    {
     "data": {
      "text/plain": [
       "3640.777777777778"
      ]
     },
     "execution_count": 1,
     "metadata": {},
     "output_type": "execute_result"
    }
   ],
   "source": [
    "32767/9"
   ]
  },
  {
   "cell_type": "code",
   "execution_count": null,
   "id": "7d9ec6cf",
   "metadata": {
    "pycharm": {
     "name": "#%%\n"
    }
   },
   "outputs": [],
   "source": []
  }
 ],
 "metadata": {
  "kernelspec": {
   "display_name": "Python 3 (ipykernel)",
   "language": "python",
   "name": "python3"
  },
  "language_info": {
   "codemirror_mode": {
    "name": "ipython",
    "version": 3
   },
   "file_extension": ".py",
   "mimetype": "text/x-python",
   "name": "python",
   "nbconvert_exporter": "python",
   "pygments_lexer": "ipython3",
   "version": "3.9.16"
  },
  "toc": {
   "base_numbering": 1,
   "nav_menu": {},
   "number_sections": true,
   "sideBar": true,
   "skip_h1_title": false,
   "title_cell": "Table of Contents",
   "title_sidebar": "Contents",
   "toc_cell": false,
   "toc_position": {},
   "toc_section_display": true,
   "toc_window_display": false
  },
  "varInspector": {
   "cols": {
    "lenName": 16,
    "lenType": 16,
    "lenVar": 40
   },
   "kernels_config": {
    "python": {
     "delete_cmd_postfix": "",
     "delete_cmd_prefix": "del ",
     "library": "var_list.py",
     "varRefreshCmd": "print(var_dic_list())"
    },
    "r": {
     "delete_cmd_postfix": ") ",
     "delete_cmd_prefix": "rm(",
     "library": "var_list.r",
     "varRefreshCmd": "cat(var_dic_list()) "
    }
   },
   "types_to_exclude": [
    "module",
    "function",
    "builtin_function_or_method",
    "instance",
    "_Feature"
   ],
   "window_display": false
  }
 },
 "nbformat": 4,
 "nbformat_minor": 5
}